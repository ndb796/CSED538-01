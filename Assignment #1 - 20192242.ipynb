{
  "nbformat": 4,
  "nbformat_minor": 0,
  "metadata": {
    "colab": {
      "name": "20192242.ipynb",
      "provenance": [],
      "collapsed_sections": [],
      "include_colab_link": true
    },
    "kernelspec": {
      "name": "python3",
      "display_name": "Python 3"
    },
    "accelerator": "GPU"
  },
  "cells": [
    {
      "cell_type": "markdown",
      "metadata": {
        "id": "view-in-github",
        "colab_type": "text"
      },
      "source": [
        "<a href=\"https://colab.research.google.com/github/ndb796/CSED538-01/blob/master/Assignment%20%231%20-%2020192242.ipynb\" target=\"_parent\"><img src=\"https://colab.research.google.com/assets/colab-badge.svg\" alt=\"Open In Colab\"/></a>"
      ]
    },
    {
      "cell_type": "markdown",
      "metadata": {
        "id": "KI-OSrFr9E2D",
        "colab_type": "text"
      },
      "source": [
        "<h2>Assignment #1</h2>\n",
        "\n",
        "> 20192242 나동빈(Dongbin Na)\n",
        "\n",
        "전체 과제는 구글 코랩(Colab) 환경에서 진행했습니다.\n",
        "\n",
        "* [Requirement 1](#requirement1)\n",
        "* [Requirement 2](#requirement2)\n",
        "   * [Requirement 2-1](#requirement2-1)\n",
        "   * [Requirement 2-2](#requirement2-2)\n",
        "   * [Requirement 2-3](#requirement2-3)\n",
        "   * [Requirement 2-4](#requirement2-4)\n",
        "   * [Requirement 2-5](#requirement2-5)\n",
        "* [Requirement 3](#requirement3)\n",
        "* [Requirement 4](#requirement4)\n"
      ]
    },
    {
      "cell_type": "markdown",
      "metadata": {
        "id": "cLMLDFc19G6h",
        "colab_type": "text"
      },
      "source": [
        "### 과제 내용 시작\n",
        "\n",
        "<a name='requirement1'>Requirement 1</a>\n",
        "\n",
        "(20) Implement a PyTorch dataloader of the target dataset. Use 1/9 of the training dataset as a validation set, i.e., train : val : test = 8 : 1 : 1."
      ]
    },
    {
      "cell_type": "code",
      "metadata": {
        "id": "WuTAxu75-EFY",
        "colab_type": "code",
        "colab": {}
      },
      "source": [
        "# 보스턴(Boston) 데이터 셋을 포함한 라이브러리를 불러옵니다.\n",
        "from sklearn.datasets import load_boston\n",
        "\n",
        "dataset = load_boston()"
      ],
      "execution_count": 0,
      "outputs": []
    },
    {
      "cell_type": "code",
      "metadata": {
        "id": "n5L7hB4G-ROK",
        "colab_type": "code",
        "colab": {}
      },
      "source": [
        "# 데이터 셋을 자유자재로 나누어 처리하기 위하여, 추가적으로 라이브러리를 불러옵니다.\n",
        "from sklearn.model_selection import train_test_split\n",
        "\n",
        "x_train, x_test, y_train, y_test = train_test_split(dataset.data, dataset.target, test_size=0.2, random_state=1)\n",
        "x_test, x_val, y_test, y_val = train_test_split(x_test, y_test, test_size=0.5, random_state=1)"
      ],
      "execution_count": 0,
      "outputs": []
    },
    {
      "cell_type": "code",
      "metadata": {
        "id": "0H5cGVfX_AJE",
        "colab_type": "code",
        "outputId": "bec8d5af-d76b-4248-f640-8e71b66261ad",
        "colab": {
          "base_uri": "https://localhost:8080/",
          "height": 35
        }
      },
      "source": [
        "# 데이터 셋이 train : test : val = 8 : 1 : 1로 잘 나누어 졌는지 확인하기\n",
        "print('Dataset Division →', len(x_train), ':', len(x_test), ':', len(x_val))"
      ],
      "execution_count": 0,
      "outputs": [
        {
          "output_type": "stream",
          "text": [
            "Dataset Division → 404 : 51 : 51\n"
          ],
          "name": "stdout"
        }
      ]
    },
    {
      "cell_type": "code",
      "metadata": {
        "id": "S6JZJv2nCyWU",
        "colab_type": "code",
        "outputId": "4428a46c-d386-4086-f630-b13b60eba518",
        "colab": {
          "base_uri": "https://localhost:8080/",
          "height": 288
        }
      },
      "source": [
        "import pandas as pd\n",
        "\n",
        "# 판다스(Pandas) 객체 초기화\n",
        "df = pd.DataFrame(dataset.data)\n",
        "df.columns = dataset.feature_names\n",
        "df['PRICE'] = dataset.target\n",
        "\n",
        "# 전체 데이터셋이 잘 구성되어 있는지 시각화\n",
        "df.describe()"
      ],
      "execution_count": 0,
      "outputs": [
        {
          "output_type": "execute_result",
          "data": {
            "text/html": [
              "<div>\n",
              "<style scoped>\n",
              "    .dataframe tbody tr th:only-of-type {\n",
              "        vertical-align: middle;\n",
              "    }\n",
              "\n",
              "    .dataframe tbody tr th {\n",
              "        vertical-align: top;\n",
              "    }\n",
              "\n",
              "    .dataframe thead th {\n",
              "        text-align: right;\n",
              "    }\n",
              "</style>\n",
              "<table border=\"1\" class=\"dataframe\">\n",
              "  <thead>\n",
              "    <tr style=\"text-align: right;\">\n",
              "      <th></th>\n",
              "      <th>CRIM</th>\n",
              "      <th>ZN</th>\n",
              "      <th>INDUS</th>\n",
              "      <th>CHAS</th>\n",
              "      <th>NOX</th>\n",
              "      <th>RM</th>\n",
              "      <th>AGE</th>\n",
              "      <th>DIS</th>\n",
              "      <th>RAD</th>\n",
              "      <th>TAX</th>\n",
              "      <th>PTRATIO</th>\n",
              "      <th>B</th>\n",
              "      <th>LSTAT</th>\n",
              "      <th>PRICE</th>\n",
              "    </tr>\n",
              "  </thead>\n",
              "  <tbody>\n",
              "    <tr>\n",
              "      <th>count</th>\n",
              "      <td>506.000000</td>\n",
              "      <td>506.000000</td>\n",
              "      <td>506.000000</td>\n",
              "      <td>506.000000</td>\n",
              "      <td>506.000000</td>\n",
              "      <td>506.000000</td>\n",
              "      <td>506.000000</td>\n",
              "      <td>506.000000</td>\n",
              "      <td>506.000000</td>\n",
              "      <td>506.000000</td>\n",
              "      <td>506.000000</td>\n",
              "      <td>506.000000</td>\n",
              "      <td>506.000000</td>\n",
              "      <td>506.000000</td>\n",
              "    </tr>\n",
              "    <tr>\n",
              "      <th>mean</th>\n",
              "      <td>3.613524</td>\n",
              "      <td>11.363636</td>\n",
              "      <td>11.136779</td>\n",
              "      <td>0.069170</td>\n",
              "      <td>0.554695</td>\n",
              "      <td>6.284634</td>\n",
              "      <td>68.574901</td>\n",
              "      <td>3.795043</td>\n",
              "      <td>9.549407</td>\n",
              "      <td>408.237154</td>\n",
              "      <td>18.455534</td>\n",
              "      <td>356.674032</td>\n",
              "      <td>12.653063</td>\n",
              "      <td>22.532806</td>\n",
              "    </tr>\n",
              "    <tr>\n",
              "      <th>std</th>\n",
              "      <td>8.601545</td>\n",
              "      <td>23.322453</td>\n",
              "      <td>6.860353</td>\n",
              "      <td>0.253994</td>\n",
              "      <td>0.115878</td>\n",
              "      <td>0.702617</td>\n",
              "      <td>28.148861</td>\n",
              "      <td>2.105710</td>\n",
              "      <td>8.707259</td>\n",
              "      <td>168.537116</td>\n",
              "      <td>2.164946</td>\n",
              "      <td>91.294864</td>\n",
              "      <td>7.141062</td>\n",
              "      <td>9.197104</td>\n",
              "    </tr>\n",
              "    <tr>\n",
              "      <th>min</th>\n",
              "      <td>0.006320</td>\n",
              "      <td>0.000000</td>\n",
              "      <td>0.460000</td>\n",
              "      <td>0.000000</td>\n",
              "      <td>0.385000</td>\n",
              "      <td>3.561000</td>\n",
              "      <td>2.900000</td>\n",
              "      <td>1.129600</td>\n",
              "      <td>1.000000</td>\n",
              "      <td>187.000000</td>\n",
              "      <td>12.600000</td>\n",
              "      <td>0.320000</td>\n",
              "      <td>1.730000</td>\n",
              "      <td>5.000000</td>\n",
              "    </tr>\n",
              "    <tr>\n",
              "      <th>25%</th>\n",
              "      <td>0.082045</td>\n",
              "      <td>0.000000</td>\n",
              "      <td>5.190000</td>\n",
              "      <td>0.000000</td>\n",
              "      <td>0.449000</td>\n",
              "      <td>5.885500</td>\n",
              "      <td>45.025000</td>\n",
              "      <td>2.100175</td>\n",
              "      <td>4.000000</td>\n",
              "      <td>279.000000</td>\n",
              "      <td>17.400000</td>\n",
              "      <td>375.377500</td>\n",
              "      <td>6.950000</td>\n",
              "      <td>17.025000</td>\n",
              "    </tr>\n",
              "    <tr>\n",
              "      <th>50%</th>\n",
              "      <td>0.256510</td>\n",
              "      <td>0.000000</td>\n",
              "      <td>9.690000</td>\n",
              "      <td>0.000000</td>\n",
              "      <td>0.538000</td>\n",
              "      <td>6.208500</td>\n",
              "      <td>77.500000</td>\n",
              "      <td>3.207450</td>\n",
              "      <td>5.000000</td>\n",
              "      <td>330.000000</td>\n",
              "      <td>19.050000</td>\n",
              "      <td>391.440000</td>\n",
              "      <td>11.360000</td>\n",
              "      <td>21.200000</td>\n",
              "    </tr>\n",
              "    <tr>\n",
              "      <th>75%</th>\n",
              "      <td>3.677083</td>\n",
              "      <td>12.500000</td>\n",
              "      <td>18.100000</td>\n",
              "      <td>0.000000</td>\n",
              "      <td>0.624000</td>\n",
              "      <td>6.623500</td>\n",
              "      <td>94.075000</td>\n",
              "      <td>5.188425</td>\n",
              "      <td>24.000000</td>\n",
              "      <td>666.000000</td>\n",
              "      <td>20.200000</td>\n",
              "      <td>396.225000</td>\n",
              "      <td>16.955000</td>\n",
              "      <td>25.000000</td>\n",
              "    </tr>\n",
              "    <tr>\n",
              "      <th>max</th>\n",
              "      <td>88.976200</td>\n",
              "      <td>100.000000</td>\n",
              "      <td>27.740000</td>\n",
              "      <td>1.000000</td>\n",
              "      <td>0.871000</td>\n",
              "      <td>8.780000</td>\n",
              "      <td>100.000000</td>\n",
              "      <td>12.126500</td>\n",
              "      <td>24.000000</td>\n",
              "      <td>711.000000</td>\n",
              "      <td>22.000000</td>\n",
              "      <td>396.900000</td>\n",
              "      <td>37.970000</td>\n",
              "      <td>50.000000</td>\n",
              "    </tr>\n",
              "  </tbody>\n",
              "</table>\n",
              "</div>"
            ],
            "text/plain": [
              "             CRIM          ZN       INDUS  ...           B       LSTAT       PRICE\n",
              "count  506.000000  506.000000  506.000000  ...  506.000000  506.000000  506.000000\n",
              "mean     3.613524   11.363636   11.136779  ...  356.674032   12.653063   22.532806\n",
              "std      8.601545   23.322453    6.860353  ...   91.294864    7.141062    9.197104\n",
              "min      0.006320    0.000000    0.460000  ...    0.320000    1.730000    5.000000\n",
              "25%      0.082045    0.000000    5.190000  ...  375.377500    6.950000   17.025000\n",
              "50%      0.256510    0.000000    9.690000  ...  391.440000   11.360000   21.200000\n",
              "75%      3.677083   12.500000   18.100000  ...  396.225000   16.955000   25.000000\n",
              "max     88.976200  100.000000   27.740000  ...  396.900000   37.970000   50.000000\n",
              "\n",
              "[8 rows x 14 columns]"
            ]
          },
          "metadata": {
            "tags": []
          },
          "execution_count": 4
        }
      ]
    },
    {
      "cell_type": "markdown",
      "metadata": {
        "id": "EZsjcaXB-XqS",
        "colab_type": "text"
      },
      "source": [
        "<a name='requirement2'>Requirement 2</a>\n",
        "\n",
        "Learn linear regression models while increasing the degrees of polynomials from 1 to 3, and then discuss the results regarding the model capacity. In development, use the validation set for tuning hyperparameters and leave the test set for final evaluation."
      ]
    },
    {
      "cell_type": "markdown",
      "metadata": {
        "id": "q7kWSREpDX4V",
        "colab_type": "text"
      },
      "source": [
        "<a name='requirement2-1'>Requirement 2-1</a>\n",
        "\n",
        "(10) Implement the regression model using [torch.nn.module]."
      ]
    },
    {
      "cell_type": "code",
      "metadata": {
        "id": "Wak75jdz-T4e",
        "colab_type": "code",
        "colab": {}
      },
      "source": [
        "import torch\n",
        "\n",
        "# Linear Regression 모델 정의하기\n",
        "class LinearRegressionModel(torch.nn.Module):\n",
        "    def __init__(self, n_input, n_output):\n",
        "        super().__init__()\n",
        "        self.linear = torch.nn.Linear(n_input, n_output)\n",
        "\n",
        "    def forward(self, x):\n",
        "        return self.linear(x)"
      ],
      "execution_count": 0,
      "outputs": []
    },
    {
      "cell_type": "markdown",
      "metadata": {
        "id": "F96CFwzUEUy-",
        "colab_type": "text"
      },
      "source": [
        "<a name='requirement2-2'>Requirement 2-2</a>\n",
        "\n",
        "(10) Train your model using the closed-form least square solver as in text book."
      ]
    },
    {
      "cell_type": "code",
      "metadata": {
        "id": "rQS6rHF0EUQm",
        "colab_type": "code",
        "colab": {}
      },
      "source": [
        "import numpy as np\n",
        "\n",
        "# Closed Form Solution 공식을 이용하여 학습시키는 함수\n",
        "def closed_form_solver(X, y):\n",
        "    w = np.linalg.inv(X.T.dot(X)).dot(X.T).dot(y)\n",
        "    return w"
      ],
      "execution_count": 0,
      "outputs": []
    },
    {
      "cell_type": "code",
      "metadata": {
        "id": "IwzzBBudSZJv",
        "colab_type": "code",
        "outputId": "0a1d1a56-6e0e-4df3-895c-fc199fe5c67c",
        "colab": {
          "base_uri": "https://localhost:8080/",
          "height": 235
        }
      },
      "source": [
        "from sklearn.preprocessing import PolynomialFeatures\n",
        "from sklearn.metrics import mean_squared_error, r2_score\n",
        "\n",
        "# 차수(Degree)가 1일 때부터 3일 때까지 반복하기\n",
        "for degree in range(1, 4):\n",
        "    poly = PolynomialFeatures(degree=degree)\n",
        "\n",
        "    # 학습(Training) 데이터 준비하기\n",
        "    x_train_poly = poly.fit_transform(x_train)\n",
        "    w = closed_form_solver(x_train_poly, y_train)\n",
        "\n",
        "    # 학습된 내용을 이용해 테스트(Test) 데이터로 평가 진행\n",
        "    x_test_poly = poly.fit_transform(x_test)\n",
        "    output = x_test_poly.dot(w)\n",
        "\n",
        "    error_value = mean_squared_error(output, y_test)\n",
        "    rmse = (np.sqrt(error_value))\n",
        "    r2 = r2_score(output, y_test)\n",
        "\n",
        "    print(\"[ Degree: \" + str(degree) + \"]\")\n",
        "    print(\"Test Loss:\", error_value)\n",
        "    print(\"RMSE:\", rmse)\n",
        "    print(\"R2 Score:\", r2)"
      ],
      "execution_count": 0,
      "outputs": [
        {
          "output_type": "stream",
          "text": [
            "[ Degree: 1]\n",
            "Test Loss: 29.1880246614786\n",
            "RMSE: 5.402594252900971\n",
            "R2 Score: 0.41322695900538964\n",
            "[ Degree: 2]\n",
            "Test Loss: 4.038814493754384e+24\n",
            "RMSE: 2009680196885.6597\n",
            "R2 Score: -0.5275425923124226\n",
            "[ Degree: 3]\n",
            "Test Loss: 2.686867184693467e+46\n",
            "RMSE: 1.6391666128534548e+23\n",
            "R2 Score: -0.02732031400219026\n"
          ],
          "name": "stdout"
        }
      ]
    },
    {
      "cell_type": "markdown",
      "metadata": {
        "id": "GxA3ooiOFl7F",
        "colab_type": "text"
      },
      "source": [
        "<a name='requirement2-3'>Requirement 2-3</a>\n",
        "\n",
        "(10) Train your model using the gradient descent optimizer using [torch.optim]."
      ]
    },
    {
      "cell_type": "code",
      "metadata": {
        "id": "k6Hb2pEaUAIz",
        "colab_type": "code",
        "outputId": "9f6c158c-a21b-4880-8486-9367bb7da217",
        "colab": {
          "base_uri": "https://localhost:8080/",
          "height": 1000
        }
      },
      "source": [
        "from sklearn.preprocessing import PolynomialFeatures\n",
        "from sklearn.metrics import mean_squared_error, r2_score\n",
        "\n",
        "learning_rate_per_degree = [5e-7, 1e-11, 1e-20]\n",
        "num_epochs_per_degree = [2e5, 1e6, 2e6]\n",
        "\n",
        "# 차수(Degree)가 1일 때부터 3일 때까지 반복하기\n",
        "for degree in range(1, 4):\n",
        "    poly = PolynomialFeatures(degree=degree)\n",
        "\n",
        "    # 학습(Training) 데이터 준비하기\n",
        "    x_train_poly = poly.fit_transform(x_train)\n",
        "\n",
        "    # 크기에 맞는 입력(Input) 차원을 가지는 뉴럴 네트워크 선언\n",
        "    net = LinearRegressionModel(n_input=poly.n_output_features_, n_output=1)\n",
        "\n",
        "    # Stochastic Gradient Descent Optimizer 이용하기 (Degree에 따라서 다르게 입력)\n",
        "    optimizer = torch.optim.SGD(net.parameters(), lr=learning_rate_per_degree[degree - 1])\n",
        "\n",
        "    # Loss Function은 MSE(Mean Squared Error)를 이용하기\n",
        "    loss_fn = torch.nn.MSELoss()\n",
        "\n",
        "    # PyTorch를 이용해 학습하기 위해서 Tensor 객체로 변환\n",
        "    x_train_torch = torch.tensor(x_train_poly, dtype=torch.float)\n",
        "    y_train_torch = torch.tensor(y_train, dtype=torch.float).view(-1, 1)\n",
        "\n",
        "    # 학습(Training) 진행하기 (Degree에 따라서 다른 학습 횟수)\n",
        "    print(\"[ Degree: \" + str(degree) + \"]\")\n",
        "    for epoch in range(int(num_epochs_per_degree[degree - 1])):\n",
        "        output = net(x_train_torch)\n",
        "\n",
        "        # 기울기(Gradient) 값을 계산하여 가중치 갱신\n",
        "        optimizer.zero_grad()\n",
        "        loss = loss_fn(output, y_train_torch)\n",
        "        loss.backward()\n",
        "        optimizer.step()\n",
        "\n",
        "        # 50000번의 반복(Epoch)당 한 번씩 출력\n",
        "        if epoch % 50000 == 0:\n",
        "            print(\"epoch {} loss: {:.4f}\".format(epoch + 1, loss.item()))\n",
        "    \n",
        "    # 테스트(Test) 목적의 데이터 준비하기\n",
        "    x_test_poly = poly.fit_transform(x_test)\n",
        "\n",
        "    # PyTorch를 이용해 평가하기 위해서 Tensor 객체로 변환\n",
        "    x_test_torch = torch.tensor(x_test_poly, dtype=torch.float)\n",
        "    y_test_torch = torch.tensor(y_test, dtype=torch.float).view(-1, 1)\n",
        "\n",
        "    # 평가된 결과를 이용해 결과 출력\n",
        "    output = net(x_test_torch).squeeze()\n",
        "    target = y_test_torch.squeeze()\n",
        "\n",
        "    error_value = mean_squared_error(list(output), list(y_test))\n",
        "    rmse = (np.sqrt(error_value))\n",
        "    r2 = r2_score(list(output), list(y_test))\n",
        "\n",
        "    print(\"Test Loss:\", error_value)\n",
        "    print(\"RMSE:\", rmse)\n",
        "    print(\"R2 Score:\", r2)"
      ],
      "execution_count": 0,
      "outputs": [
        {
          "output_type": "stream",
          "text": [
            "[ Degree: 1]\n",
            "epoch 1 loss: 1640.1949\n",
            "epoch 50001 loss: 49.4985\n",
            "epoch 100001 loss: 45.4414\n",
            "epoch 150001 loss: 43.3930\n",
            "Test Loss: 55.78338588168387\n",
            "RMSE: 7.468827610922873\n",
            "R2 Score: -0.008978612073925696\n",
            "[ Degree: 2]\n",
            "epoch 1 loss: 219527856.0000\n",
            "epoch 50001 loss: 3448.0903\n",
            "epoch 100001 loss: 2153.5032\n",
            "epoch 150001 loss: 1571.0432\n",
            "epoch 200001 loss: 1231.1864\n",
            "epoch 250001 loss: 1011.7534\n",
            "epoch 300001 loss: 861.5915\n",
            "epoch 350001 loss: 753.5499\n",
            "epoch 400001 loss: 673.2465\n",
            "epoch 450001 loss: 611.4886\n",
            "epoch 500001 loss: 562.3647\n",
            "epoch 550001 loss: 522.5509\n",
            "epoch 600001 loss: 489.4231\n",
            "epoch 650001 loss: 461.4872\n",
            "epoch 700001 loss: 437.7503\n",
            "epoch 750001 loss: 417.1490\n",
            "epoch 800001 loss: 399.1169\n",
            "epoch 850001 loss: 383.1249\n",
            "epoch 900001 loss: 368.8735\n",
            "epoch 950001 loss: 355.9582\n",
            "Test Loss: 381.1358945006735\n",
            "RMSE: 19.522702028681213\n",
            "R2 Score: -0.11403248988954373\n",
            "[ Degree: 3]\n",
            "epoch 1 loss: 7109077893120.0000\n",
            "epoch 50001 loss: 78827061248.0000\n",
            "epoch 100001 loss: 70545809408.0000\n",
            "epoch 150001 loss: 65435586560.0000\n",
            "epoch 200001 loss: 61270249472.0000\n",
            "epoch 250001 loss: 57560739840.0000\n",
            "epoch 300001 loss: 54142083072.0000\n",
            "epoch 350001 loss: 50951860224.0000\n",
            "epoch 400001 loss: 48159039488.0000\n",
            "epoch 450001 loss: 45644234752.0000\n",
            "epoch 500001 loss: 43264978944.0000\n",
            "epoch 550001 loss: 41006927872.0000\n",
            "epoch 600001 loss: 38933630976.0000\n",
            "epoch 650001 loss: 37022097408.0000\n",
            "epoch 700001 loss: 35225165824.0000\n",
            "epoch 750001 loss: 33603561472.0000\n",
            "epoch 800001 loss: 32064346112.0000\n",
            "epoch 850001 loss: 30648999936.0000\n",
            "epoch 900001 loss: 29353168896.0000\n",
            "epoch 950001 loss: 28137564160.0000\n",
            "epoch 1000001 loss: 27021860864.0000\n",
            "epoch 1050001 loss: 25991124992.0000\n",
            "epoch 1100001 loss: 25017579520.0000\n",
            "epoch 1150001 loss: 24120287232.0000\n",
            "epoch 1200001 loss: 23263551488.0000\n",
            "epoch 1250001 loss: 22447908864.0000\n",
            "epoch 1300001 loss: 21690048512.0000\n",
            "epoch 1350001 loss: 21006051328.0000\n",
            "epoch 1400001 loss: 20407394304.0000\n",
            "epoch 1450001 loss: 19835977728.0000\n",
            "epoch 1500001 loss: 19295979520.0000\n",
            "epoch 1550001 loss: 18792130560.0000\n",
            "epoch 1600001 loss: 18301933568.0000\n",
            "epoch 1650001 loss: 17825366016.0000\n",
            "epoch 1700001 loss: 17362507776.0000\n",
            "epoch 1750001 loss: 16926541824.0000\n",
            "epoch 1800001 loss: 16517864448.0000\n",
            "epoch 1850001 loss: 16131190784.0000\n",
            "epoch 1900001 loss: 15755039744.0000\n",
            "epoch 1950001 loss: 15426840576.0000\n",
            "Test Loss: 12590140098.807102\n",
            "RMSE: 112205.79351712238\n",
            "R2 Score: -0.005015106143758663\n"
          ],
          "name": "stdout"
        }
      ]
    },
    {
      "cell_type": "markdown",
      "metadata": {
        "id": "89p4Xiz_Wk-D",
        "colab_type": "text"
      },
      "source": [
        "<a name='requirement2-4'>Requirement 2-4</a>\n",
        "\n",
        "(20) Summarize your results in a table of the Root Mean Square Error (RMSE) values. Analyse the effect of the degrees and also compare results of the two solvers, the LS and GD solvers."
      ]
    },
    {
      "cell_type": "markdown",
      "metadata": {
        "id": "JzQSL_iCbxLK",
        "colab_type": "text"
      },
      "source": [
        "* 실험 결과를 요약한 것은 다음과 같습니다.\n",
        "\n",
        "![image.png](https://user-images.githubusercontent.com/16822641/79583079-98691880-8107-11ea-85b6-c287cd990cbf.png)"
      ]
    },
    {
      "cell_type": "markdown",
      "metadata": {
        "id": "sPcgDLFXbbFZ",
        "colab_type": "text"
      },
      "source": [
        "* 실험 결과, Degree를 높이면 오히려 성능이 비약적으로 떨어지는 것을 알 수 있습니다.\n",
        "* 성능이 낮게 나오는 이유로 예상되는 것은 다음과 같습니다.\n",
        "    * 입력값의 일반화(Normalization)를 진행하지 않아서, 각 특징(Feature) 값을 제곱했을 때 의미 없는 값들이 존재합니다.\n",
        "    * 학습 과정에서 정규화(Regularization)를 하지 않아서, 학습 과정이 매우 비효율적입니다.\n",
        "* L1 및 L2 정규화를 통해 성능을 비약적으로 향상시킬 수 있을 것으로 보입니다."
      ]
    },
    {
      "cell_type": "markdown",
      "metadata": {
        "id": "Ib4mvX1ydxjE",
        "colab_type": "text"
      },
      "source": [
        "<a name='requirement2-5'>Requirement 2-5</a>\n",
        "\n",
        "(20) Identify the feature variables most highly correlated with the target variable by analyzing the results. Try your own ideas!"
      ]
    },
    {
      "cell_type": "markdown",
      "metadata": {
        "id": "ipTvrb_Od34s",
        "colab_type": "text"
      },
      "source": [
        "* Degree를 향샹시켰음에도 성능이 매우 떨어지는 점을 감안하면, 입력 값의 분포를 확인할 필요가 있습니다.\n",
        "* 선형 회귀(Linear Regression) 모델의 특성상, 선형적으로 목표(Target) 값과 크게 영향력을 끼치는 일부 특징(Feature)이 있을 것입니다.\n",
        "* 따라서 시각화 라이브러리를 이용하여 목표(Target)와 가장 큰 상관 관계를 가지는 특징을 찾아 볼 수 있습니다."
      ]
    },
    {
      "cell_type": "code",
      "metadata": {
        "id": "hQ0I7Ha9eqiO",
        "colab_type": "code",
        "outputId": "0c39f720-1383-4073-c1e4-24ca2945c93f",
        "colab": {
          "base_uri": "https://localhost:8080/",
          "height": 350
        }
      },
      "source": [
        "import pandas as pd\n",
        "import matplotlib.pyplot as plt\n",
        "\n",
        "plt.figure(figsize=(20, 5))\n",
        "\n",
        "# 비교할 특징(Feature) 이름들\n",
        "features = ['LSTAT', 'RM', 'CRIM', 'INDUS', 'NOX']\n",
        "target = df['PRICE']\n",
        "\n",
        "for i, feature in enumerate(features):\n",
        "    # 여러 개의 그림으로 한 장의 이미지를 만듭니다.\n",
        "    plt.subplot(1, len(features) , i + 1)\n",
        "\n",
        "    # 각 특징(Feature)과 목표(Target) 값을 비교합니다.\n",
        "    x = df[feature]\n",
        "    y = target\n",
        "    \n",
        "    # 스캐터(Scatter) 도표를 그립니다.\n",
        "    plt.scatter(x, y, marker='o')\n",
        "    plt.title(feature)\n",
        "    plt.xlabel(feature)\n",
        "    plt.ylabel('PRICE')"
      ],
      "execution_count": 0,
      "outputs": [
        {
          "output_type": "display_data",
          "data": {
            "image/png": "[encoded data removed]",
            "text/plain": [
              "<Figure size 1440x360 with 5 Axes>"
            ]
          },
          "metadata": {
            "tags": [],
            "needs_background": "light"
          }
        }
      ]
    },
    {
      "cell_type": "markdown",
      "metadata": {
        "id": "IklA566iiqcp",
        "colab_type": "text"
      },
      "source": [
        "* 파이썬 시각화 라이브러리를 활용한 시각화 결과는 위 그림과 같습니다.\n",
        "* RM (주택 1가구당 평균 방의 개수), LSTAT (모집단의 하위 계층 비율) 특징들이 선형적으로 밀접하게 연관성이 있는 것을 알 수 있습니다."
      ]
    },
    {
      "cell_type": "markdown",
      "metadata": {
        "id": "AGPwn3YnmxdF",
        "colab_type": "text"
      },
      "source": [
        "<a name='requirement3'>Requirement 3</a>\n",
        "\n",
        "(20) Add some regularization terms (e.g., L2 norm, L1 norm) to your best model obtained above and redo the experiments above. How does it help?"
      ]
    },
    {
      "cell_type": "markdown",
      "metadata": {
        "id": "ft73rU1zgOMp",
        "colab_type": "text"
      },
      "source": [
        "* 차수(Degree)가 단순히 1일 때 가장 괜찮은 성능이 나온 것을 알 수 있습니다.\n",
        "* 따라서 기본적인 선형 회귀(Linear Regression) 모델에 L2 정규화를 적용합니다."
      ]
    },
    {
      "cell_type": "code",
      "metadata": {
        "id": "I7Mb68EJgJXr",
        "colab_type": "code",
        "outputId": "6a60d773-73c6-467c-9ba5-2db7f4e3b31e",
        "colab": {
          "base_uri": "https://localhost:8080/",
          "height": 381
        }
      },
      "source": [
        "# 학습할 뉴럴 네트워크 객체 초기화\n",
        "net = LinearRegressionModel(n_input=13, n_output=1)\n",
        "\n",
        "# PyTorch를 이용해 학습하기 위해서 Tensor 객체로 변환\n",
        "x_train_torch = torch.tensor(x_train, dtype=torch.float)\n",
        "y_train_torch = torch.tensor(y_train, dtype=torch.float).view(-1, 1)\n",
        "\n",
        "# Loss Function은 MSE(Mean Squared Error)를 이용하기\n",
        "loss_fn = torch.nn.MSELoss()\n",
        "\n",
        "# 경사 하강법(Gradient Descent)를 위한 최적화 함수 선언\n",
        "optimizer = torch.optim.SGD(net.parameters(), lr=0.000003)\n",
        "\n",
        "# 학습 횟수(Epoch) 초기화\n",
        "num_epochs = 200000\n",
        "\n",
        "for epoch in range(num_epochs):\n",
        "    output = net(x_train_torch)\n",
        "    optimizer.zero_grad()\n",
        "    loss = loss_fn(output, y_train_torch)\n",
        "\n",
        "    # L2 정규화 손실 값을 계산합니다.\n",
        "    l2_regularizer_loss = None\n",
        "    for weight in net2.parameters():\n",
        "        if l2_regularizer_loss is None:\n",
        "            l2_regularizer_loss = weight.norm(2)\n",
        "        else:\n",
        "            l2_regularizer_loss = l2_regularizer_loss + weight.norm(2)\n",
        "    \n",
        "    # 기존의 손실 값에 더하여 가중치를 갱신합니다.\n",
        "    loss += l2_regularizer_loss * 0.1\n",
        "    loss.backward()\n",
        "    optimizer.step()\n",
        "\n",
        "    # 10000번의 반복(Epoch)당 한 번씩 출력\n",
        "    if epoch % 10000 == 0:\n",
        "        print(\"epoch {} loss: {:.4f}\".format(epoch + 1, loss.item()))"
      ],
      "execution_count": 0,
      "outputs": [
        {
          "output_type": "stream",
          "text": [
            "epoch 1 loss: 1247.1779\n",
            "epoch 10001 loss: 46.5511\n",
            "epoch 20001 loss: 42.9547\n",
            "epoch 30001 loss: 41.0749\n",
            "epoch 40001 loss: 39.7182\n",
            "epoch 50001 loss: 38.5807\n",
            "epoch 60001 loss: 37.5661\n",
            "epoch 70001 loss: 36.6395\n",
            "epoch 80001 loss: 35.7861\n",
            "epoch 90001 loss: 34.9976\n",
            "epoch 100001 loss: 34.2679\n",
            "epoch 110001 loss: 33.5924\n",
            "epoch 120001 loss: 32.9669\n",
            "epoch 130001 loss: 32.3876\n",
            "epoch 140001 loss: 31.8510\n",
            "epoch 150001 loss: 31.3540\n",
            "epoch 160001 loss: 30.8941\n",
            "epoch 170001 loss: 30.4679\n",
            "epoch 180001 loss: 30.0727\n",
            "epoch 190001 loss: 29.7070\n"
          ],
          "name": "stdout"
        }
      ]
    },
    {
      "cell_type": "markdown",
      "metadata": {
        "id": "kuWNgl_ImWSg",
        "colab_type": "text"
      },
      "source": [
        "* 위 소스코드 실행 결과 RMSE 값이 많이 줄어들었습니다.\n",
        "* L2 정규화를 이용하여 학습을 진행한 결과, 예측 성능이 비약적으로 좋아진 것으로 이해할 수 있습니다.\n",
        "* 학습(Train)을 진행할 때의 손실 값과, 학습을 마친 뒤의 테스트(Test) 손실 값의 차이(Gap) 또한 줄어든 것이 확인됩니다."
      ]
    },
    {
      "cell_type": "code",
      "metadata": {
        "id": "GQ8sxdXFmTJn",
        "colab_type": "code",
        "outputId": "4738af70-afd6-4060-f44c-4906653c77a3",
        "colab": {
          "base_uri": "https://localhost:8080/",
          "height": 72
        }
      },
      "source": [
        "# PyTorch를 이용해 평가하기 위해서 Tensor 객체로 변환\n",
        "x_test_torch = torch.tensor(x_test, dtype=torch.float)\n",
        "y_test_torch = torch.tensor(y_test, dtype=torch.float).view(-1, 1)\n",
        "\n",
        "# 평가된 결과를 이용해 결과 출력\n",
        "output = net(x_test_torch).squeeze()\n",
        "target = y_test_torch.squeeze()\n",
        "\n",
        "error_value = mean_squared_error(list(output), list(y_test))\n",
        "rmse = (np.sqrt(error_value))\n",
        "r2 = r2_score(list(output), list(y_test))\n",
        "\n",
        "print(\"Test Loss:\", error_value)\n",
        "print(\"RMSE:\", rmse)\n",
        "print(\"R2 Score:\", r2)"
      ],
      "execution_count": 0,
      "outputs": [
        {
          "output_type": "stream",
          "text": [
            "Test Loss: 35.9383112991092\n",
            "RMSE: 5.994857070782356\n",
            "R2 Score: 0.2941522908014399\n"
          ],
          "name": "stdout"
        }
      ]
    },
    {
      "cell_type": "markdown",
      "metadata": {
        "id": "K7kIdKqGnTn-",
        "colab_type": "text"
      },
      "source": [
        "<a name='requirement4'>Requirement 4</a>\n",
        "\n",
        "(20) Select the best model through the 10-fold cross-validation; (1) split the original training dataset (training+validation splits) into 10 folds, (2) conduct 10-fold crossvalidation for each hyperparameter combination, (3) select the best hyperparameter combination in terms of average validation performance over the 10 folds, (4) retrain the model with it on the original training set, and (5) evaluate the trained model on the test dataset. What difference does it make?"
      ]
    }
  ]
}